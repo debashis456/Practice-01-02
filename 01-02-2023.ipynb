{
 "cells": [
  {
   "cell_type": "code",
   "execution_count": 1,
   "id": "7a056573-d982-40bc-adaf-48f542848dc8",
   "metadata": {},
   "outputs": [],
   "source": [
    "d={}"
   ]
  },
  {
   "cell_type": "code",
   "execution_count": 2,
   "id": "8347d72a-8371-4734-b24a-4009598ab97b",
   "metadata": {},
   "outputs": [
    {
     "data": {
      "text/plain": [
       "dict"
      ]
     },
     "execution_count": 2,
     "metadata": {},
     "output_type": "execute_result"
    }
   ],
   "source": [
    "type(d)"
   ]
  },
  {
   "cell_type": "code",
   "execution_count": 3,
   "id": "51ef5c12-01bf-4891-9d18-c0280cfd3563",
   "metadata": {},
   "outputs": [],
   "source": [
    "d1={'deba':'mandal'}"
   ]
  },
  {
   "cell_type": "code",
   "execution_count": 4,
   "id": "16a2091e-0e10-4b62-a475-254addb97837",
   "metadata": {},
   "outputs": [
    {
     "data": {
      "text/plain": [
       "{'deba': 'mandal'}"
      ]
     },
     "execution_count": 4,
     "metadata": {},
     "output_type": "execute_result"
    }
   ],
   "source": [
    "d1"
   ]
  },
  {
   "cell_type": "code",
   "execution_count": 5,
   "id": "6be266ff-3413-446c-a44a-6d3745c15947",
   "metadata": {},
   "outputs": [],
   "source": [
    "d2={'name':'debashis'}"
   ]
  },
  {
   "cell_type": "code",
   "execution_count": 6,
   "id": "3076266d-4059-409c-8f0a-05530cc6e1e7",
   "metadata": {},
   "outputs": [
    {
     "data": {
      "text/plain": [
       "{'name': 'debashis'}"
      ]
     },
     "execution_count": 6,
     "metadata": {},
     "output_type": "execute_result"
    }
   ],
   "source": [
    "d2"
   ]
  },
  {
   "cell_type": "code",
   "execution_count": 10,
   "id": "f2e03685-7731-47fc-ba94-d043f683133b",
   "metadata": {},
   "outputs": [
    {
     "data": {
      "text/plain": [
       "'debashis'"
      ]
     },
     "execution_count": 10,
     "metadata": {},
     "output_type": "execute_result"
    }
   ],
   "source": [
    "d2['name']"
   ]
  },
  {
   "cell_type": "code",
   "execution_count": 11,
   "id": "02f6f51c-0d59-4b54-b35b-759b24464a92",
   "metadata": {},
   "outputs": [],
   "source": [
    "d3={'name':'debashis','phone':'9836228118','name':'piya'}"
   ]
  },
  {
   "cell_type": "code",
   "execution_count": 12,
   "id": "b7001d83-223b-4435-bfd9-b03efa5c8f7a",
   "metadata": {},
   "outputs": [
    {
     "data": {
      "text/plain": [
       "'piya'"
      ]
     },
     "execution_count": 12,
     "metadata": {},
     "output_type": "execute_result"
    }
   ],
   "source": [
    "d3['name']"
   ]
  },
  {
   "cell_type": "code",
   "execution_count": 13,
   "id": "34b770ca-1010-412d-8309-3c74cdbd02b0",
   "metadata": {},
   "outputs": [],
   "source": [
    "d4={'name':'debashis','time':8.30,}"
   ]
  },
  {
   "cell_type": "code",
   "execution_count": 14,
   "id": "c72ad875-6894-42c0-9c29-8b60d35f144f",
   "metadata": {},
   "outputs": [
    {
     "data": {
      "text/plain": [
       "{'name': 'debashis', 'time': 8.3}"
      ]
     },
     "execution_count": 14,
     "metadata": {},
     "output_type": "execute_result"
    }
   ],
   "source": [
    "d4"
   ]
  },
  {
   "cell_type": "code",
   "execution_count": 20,
   "id": "ca406b63-7123-4958-8213-e636ccd00ae4",
   "metadata": {},
   "outputs": [],
   "source": [
    "d5={'num':[2,3,4,5,6],'date':(7,2,23),'type':{'data_science'}}"
   ]
  },
  {
   "cell_type": "code",
   "execution_count": 21,
   "id": "4d95683f-0179-491e-9e2f-36558e4f532a",
   "metadata": {},
   "outputs": [
    {
     "data": {
      "text/plain": [
       "{'num': [2, 3, 4, 5, 6], 'date': (7, 2, 23), 'type': {'data_science'}}"
      ]
     },
     "execution_count": 21,
     "metadata": {},
     "output_type": "execute_result"
    }
   ],
   "source": [
    "d5"
   ]
  },
  {
   "cell_type": "code",
   "execution_count": 22,
   "id": "3aa0ea04-e727-4f11-a38f-dd0bd6e973a3",
   "metadata": {},
   "outputs": [
    {
     "data": {
      "text/plain": [
       "{'data_science'}"
      ]
     },
     "execution_count": 22,
     "metadata": {},
     "output_type": "execute_result"
    }
   ],
   "source": [
    "d5['type']"
   ]
  },
  {
   "cell_type": "code",
   "execution_count": 32,
   "id": "2734aca8-da51-4900-8eb4-cfcc85313749",
   "metadata": {},
   "outputs": [],
   "source": [
    "d5=d5['num'][4::-1]"
   ]
  },
  {
   "cell_type": "code",
   "execution_count": null,
   "id": "80d5be30-5a15-4c4f-a708-cfb6c7dd97a6",
   "metadata": {},
   "outputs": [],
   "source": [
    "d5=d5[::-1]"
   ]
  },
  {
   "cell_type": "code",
   "execution_count": 35,
   "id": "b13ff3fe-85f6-41a5-8946-adcd098ff5f7",
   "metadata": {},
   "outputs": [
    {
     "data": {
      "text/plain": [
       "[6, 5, 4, 3, 2]"
      ]
     },
     "execution_count": 35,
     "metadata": {},
     "output_type": "execute_result"
    }
   ],
   "source": [
    "d5"
   ]
  },
  {
   "cell_type": "code",
   "execution_count": 36,
   "id": "4d4c705e-26b7-4812-b33f-62167d4afe11",
   "metadata": {},
   "outputs": [
    {
     "data": {
      "text/plain": [
       "2"
      ]
     },
     "execution_count": 36,
     "metadata": {},
     "output_type": "execute_result"
    }
   ],
   "source": [
    "1+1"
   ]
  },
  {
   "cell_type": "code",
   "execution_count": 37,
   "id": "9cc84023-1744-4b85-9af2-fe179ebaec5e",
   "metadata": {},
   "outputs": [
    {
     "data": {
      "text/plain": [
       "[6, 5, 4, 3, 2]"
      ]
     },
     "execution_count": 37,
     "metadata": {},
     "output_type": "execute_result"
    }
   ],
   "source": [
    "d5"
   ]
  },
  {
   "cell_type": "code",
   "execution_count": 39,
   "id": "63b13357-528b-4a92-9d37-4cd9f519f2e9",
   "metadata": {},
   "outputs": [],
   "source": [
    "d6={'num':[2,3,4,5,6],'date':(7,2,23),'type':{'data_science'}, 'mentor':('sudhanshu','krish')}"
   ]
  },
  {
   "cell_type": "code",
   "execution_count": 51,
   "id": "3b86e5cb-9034-49e7-aefe-bbae6b20c6a9",
   "metadata": {},
   "outputs": [],
   "source": [
    "d6['class']=['data','science','paython','sql']"
   ]
  },
  {
   "cell_type": "code",
   "execution_count": 52,
   "id": "b5eaa373-041b-4b92-974d-7b82006a469a",
   "metadata": {},
   "outputs": [
    {
     "data": {
      "text/plain": [
       "{'num': [2, 3, 4, 5, 6],\n",
       " 'date': (7, 2, 23),\n",
       " 'type': {'data_science'},\n",
       " 'mentor': ('sudhanshu', 'krish'),\n",
       " 'class': ['data', 'science', 'paython', 'sql']}"
      ]
     },
     "execution_count": 52,
     "metadata": {},
     "output_type": "execute_result"
    }
   ],
   "source": [
    "d6"
   ]
  },
  {
   "cell_type": "code",
   "execution_count": 56,
   "id": "41858397-459a-4458-b5e4-1daf7152d6ed",
   "metadata": {},
   "outputs": [],
   "source": [
    "d6['class']=['data','science','paython','sql']"
   ]
  },
  {
   "cell_type": "code",
   "execution_count": 57,
   "id": "78c87ee2-98ea-4837-ab7d-9334e48828fe",
   "metadata": {},
   "outputs": [
    {
     "data": {
      "text/plain": [
       "{'num': [2, 3, 4, 5, 6],\n",
       " 'date': (7, 2, 23),\n",
       " 'type': {'data_science'},\n",
       " 'mentor': ('sudhanshu', 'krish'),\n",
       " 'class': ['data', 'science', 'paython', 'sql']}"
      ]
     },
     "execution_count": 57,
     "metadata": {},
     "output_type": "execute_result"
    }
   ],
   "source": [
    "d6"
   ]
  },
  {
   "cell_type": "code",
   "execution_count": 60,
   "id": "9e85f9bc-0ad3-4b6c-9759-ca26e69b2aaf",
   "metadata": {},
   "outputs": [],
   "source": [
    "d6['study']=['dsa']"
   ]
  },
  {
   "cell_type": "code",
   "execution_count": 61,
   "id": "c389e825-e11b-4b89-a25e-e0372558c4b4",
   "metadata": {},
   "outputs": [
    {
     "data": {
      "text/plain": [
       "{'num': [2, 3, 4, 5, 6],\n",
       " 'date': (7, 2, 23),\n",
       " 'type': {'data_science'},\n",
       " 'mentor': ('sudhanshu', 'krish'),\n",
       " 'class': ['data', 'science', 'paython', 'sql'],\n",
       " 'study': ['dsa']}"
      ]
     },
     "execution_count": 61,
     "metadata": {},
     "output_type": "execute_result"
    }
   ],
   "source": [
    "d6"
   ]
  },
  {
   "cell_type": "code",
   "execution_count": 66,
   "id": "c5fec137-e32f-4ba6-8511-1bd913b14c80",
   "metadata": {},
   "outputs": [],
   "source": [
    "del d6['date']"
   ]
  },
  {
   "cell_type": "code",
   "execution_count": 67,
   "id": "d385c80b-c631-4325-9bfc-ccf4f3d6ac87",
   "metadata": {},
   "outputs": [
    {
     "data": {
      "text/plain": [
       "{'num': [2, 3, 4, 5, 6],\n",
       " 'type': {'data_science'},\n",
       " 'mentor': ('sudhanshu', 'krish'),\n",
       " 'class': ['data', 'science', 'paython', 'sql'],\n",
       " 'study': ['dsa']}"
      ]
     },
     "execution_count": 67,
     "metadata": {},
     "output_type": "execute_result"
    }
   ],
   "source": [
    "d6"
   ]
  },
  {
   "cell_type": "code",
   "execution_count": 68,
   "id": "10edc05b-de1e-4511-9dd2-64eb539654e7",
   "metadata": {},
   "outputs": [],
   "source": [
    "d6['date']={7,2,23}"
   ]
  },
  {
   "cell_type": "code",
   "execution_count": 69,
   "id": "c142b7f7-d572-41cf-b23e-6171c884a9ab",
   "metadata": {},
   "outputs": [
    {
     "data": {
      "text/plain": [
       "{'num': [2, 3, 4, 5, 6],\n",
       " 'type': {'data_science'},\n",
       " 'mentor': ('sudhanshu', 'krish'),\n",
       " 'class': ['data', 'science', 'paython', 'sql'],\n",
       " 'study': ['dsa'],\n",
       " 'date': {2, 7, 23}}"
      ]
     },
     "execution_count": 69,
     "metadata": {},
     "output_type": "execute_result"
    }
   ],
   "source": [
    "d6"
   ]
  },
  {
   "cell_type": "code",
   "execution_count": 74,
   "id": "e38eede6-f606-4c1f-a235-4c9f456a234e",
   "metadata": {},
   "outputs": [],
   "source": [
    "d6['class']=d6['class'][::-1]"
   ]
  },
  {
   "cell_type": "code",
   "execution_count": 5,
   "id": "c8cca29b-ec06-4f4a-8451-28e2cf92194a",
   "metadata": {},
   "outputs": [
    {
     "ename": "NameError",
     "evalue": "name 'd6' is not defined",
     "output_type": "error",
     "traceback": [
      "\u001b[0;31m---------------------------------------------------------------------------\u001b[0m",
      "\u001b[0;31mNameError\u001b[0m                                 Traceback (most recent call last)",
      "Cell \u001b[0;32mIn [5], line 1\u001b[0m\n\u001b[0;32m----> 1\u001b[0m \u001b[43md6\u001b[49m\n",
      "\u001b[0;31mNameError\u001b[0m: name 'd6' is not defined"
     ]
    }
   ],
   "source": [
    "d6"
   ]
  },
  {
   "cell_type": "code",
   "execution_count": 82,
   "id": "897625a9-93ce-4607-b3e5-a251b1742bbe",
   "metadata": {},
   "outputs": [
    {
     "data": {
      "text/plain": [
       "{2, 7, 23}"
      ]
     },
     "execution_count": 82,
     "metadata": {},
     "output_type": "execute_result"
    }
   ],
   "source": [
    "d6['date']"
   ]
  },
  {
   "cell_type": "code",
   "execution_count": 1,
   "id": "02411d73-5e4e-465b-bcec-1a589dea19ae",
   "metadata": {},
   "outputs": [
    {
     "ename": "NameError",
     "evalue": "name 'd6' is not defined",
     "output_type": "error",
     "traceback": [
      "\u001b[0;31m---------------------------------------------------------------------------\u001b[0m",
      "\u001b[0;31mNameError\u001b[0m                                 Traceback (most recent call last)",
      "Cell \u001b[0;32mIn [1], line 1\u001b[0m\n\u001b[0;32m----> 1\u001b[0m \u001b[43md6\u001b[49m\n",
      "\u001b[0;31mNameError\u001b[0m: name 'd6' is not defined"
     ]
    }
   ],
   "source": [
    "d6"
   ]
  },
  {
   "cell_type": "code",
   "execution_count": 2,
   "id": "cc9b8103-974b-4f93-a851-77b9f86c32c0",
   "metadata": {},
   "outputs": [
    {
     "data": {
      "text/plain": [
       "2"
      ]
     },
     "execution_count": 2,
     "metadata": {},
     "output_type": "execute_result"
    }
   ],
   "source": [
    "1+1"
   ]
  },
  {
   "cell_type": "code",
   "execution_count": 3,
   "id": "3c575481-f37f-4bdd-a5f1-52721285873e",
   "metadata": {},
   "outputs": [
    {
     "ename": "NameError",
     "evalue": "name 'd5' is not defined",
     "output_type": "error",
     "traceback": [
      "\u001b[0;31m---------------------------------------------------------------------------\u001b[0m",
      "\u001b[0;31mNameError\u001b[0m                                 Traceback (most recent call last)",
      "Cell \u001b[0;32mIn [3], line 1\u001b[0m\n\u001b[0;32m----> 1\u001b[0m \u001b[43md5\u001b[49m\n",
      "\u001b[0;31mNameError\u001b[0m: name 'd5' is not defined"
     ]
    }
   ],
   "source": [
    "d5"
   ]
  },
  {
   "cell_type": "code",
   "execution_count": 4,
   "id": "dd97c5bd-7d6b-4bb6-9690-52537db9bf75",
   "metadata": {},
   "outputs": [
    {
     "ename": "NameError",
     "evalue": "name 'd6' is not defined",
     "output_type": "error",
     "traceback": [
      "\u001b[0;31m---------------------------------------------------------------------------\u001b[0m",
      "\u001b[0;31mNameError\u001b[0m                                 Traceback (most recent call last)",
      "Cell \u001b[0;32mIn [4], line 1\u001b[0m\n\u001b[0;32m----> 1\u001b[0m \u001b[38;5;28mtype\u001b[39m(\u001b[43md6\u001b[49m)\n",
      "\u001b[0;31mNameError\u001b[0m: name 'd6' is not defined"
     ]
    }
   ],
   "source": [
    "type(d6)"
   ]
  },
  {
   "cell_type": "code",
   "execution_count": 6,
   "id": "2537ea04-e84f-4333-a36e-fbf9c7a8e490",
   "metadata": {},
   "outputs": [
    {
     "data": {
      "text/plain": [
       "{'name': 'debashis'}"
      ]
     },
     "execution_count": 6,
     "metadata": {},
     "output_type": "execute_result"
    }
   ],
   "source": [
    "{'name':'debashis'}"
   ]
  },
  {
   "cell_type": "code",
   "execution_count": 7,
   "id": "a6221f7c-83d1-4bb9-b03a-868958b7dcf3",
   "metadata": {},
   "outputs": [],
   "source": [
    "d7={'name':'debashis'}"
   ]
  },
  {
   "cell_type": "code",
   "execution_count": 8,
   "id": "5f925fe8-e4ca-4e87-9186-ef0882b86cb2",
   "metadata": {},
   "outputs": [
    {
     "data": {
      "text/plain": [
       "{'name': 'debashis'}"
      ]
     },
     "execution_count": 8,
     "metadata": {},
     "output_type": "execute_result"
    }
   ],
   "source": [
    "d7"
   ]
  },
  {
   "cell_type": "code",
   "execution_count": 10,
   "id": "616dedd2-87d7-4718-ae44-a5987607f5bf",
   "metadata": {},
   "outputs": [
    {
     "ename": "SyntaxError",
     "evalue": "cannot assign to literal here. Maybe you meant '==' instead of '='? (2750885364.py, line 1)",
     "output_type": "error",
     "traceback": [
      "\u001b[0;36m  Cell \u001b[0;32mIn [10], line 1\u001b[0;36m\u001b[0m\n\u001b[0;31m    {'mentor'='sudhanshu'}\u001b[0m\n\u001b[0m     ^\u001b[0m\n\u001b[0;31mSyntaxError\u001b[0m\u001b[0;31m:\u001b[0m cannot assign to literal here. Maybe you meant '==' instead of '='?\n"
     ]
    }
   ],
   "source": [
    "{'mentor'='sudhanshu'}"
   ]
  },
  {
   "cell_type": "code",
   "execution_count": null,
   "id": "576b11b7-93c0-42d6-9f36-a84845754978",
   "metadata": {},
   "outputs": [],
   "source": []
  }
 ],
 "metadata": {
  "kernelspec": {
   "display_name": "Python 3 (ipykernel)",
   "language": "python",
   "name": "python3"
  },
  "language_info": {
   "codemirror_mode": {
    "name": "ipython",
    "version": 3
   },
   "file_extension": ".py",
   "mimetype": "text/x-python",
   "name": "python",
   "nbconvert_exporter": "python",
   "pygments_lexer": "ipython3",
   "version": "3.10.6"
  }
 },
 "nbformat": 4,
 "nbformat_minor": 5
}
